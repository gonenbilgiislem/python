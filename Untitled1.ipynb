{
 "cells": [
  {
   "cell_type": "code",
   "execution_count": 3,
   "id": "40020ee1-d7ed-44f3-829d-7d3039c72a7d",
   "metadata": {
    "tags": []
   },
   "outputs": [],
   "source": [
    "import numpy as np"
   ]
  },
  {
   "cell_type": "code",
   "execution_count": 13,
   "id": "72021b1f-84fd-450d-9a52-54d016be110e",
   "metadata": {
    "tags": []
   },
   "outputs": [],
   "source": [
    "a = np.floor(10*np.random.random((2,3)))\n",
    "b = np.floor(10*np.random.random((2,3)))"
   ]
  },
  {
   "cell_type": "code",
   "execution_count": 14,
   "id": "7ea27fc6-cbac-434d-b01d-1bf55615b6a6",
   "metadata": {
    "tags": []
   },
   "outputs": [
    {
     "name": "stdout",
     "output_type": "stream",
     "text": [
      "[[7. 4. 2.]\n",
      " [1. 7. 0.]]\n",
      "[[9. 7. 1.]\n",
      " [3. 6. 3.]]\n"
     ]
    }
   ],
   "source": [
    "print(a)\n",
    "print(b)"
   ]
  },
  {
   "cell_type": "code",
   "execution_count": 17,
   "id": "557049ca-a9e0-48b3-882b-93f486ba1f1d",
   "metadata": {
    "tags": []
   },
   "outputs": [
    {
     "name": "stdout",
     "output_type": "stream",
     "text": [
      "[[7. 4. 2.]\n",
      " [1. 7. 0.]\n",
      " [9. 7. 1.]\n",
      " [3. 6. 3.]]\n"
     ]
    }
   ],
   "source": [
    "c= np.vstack((a,b))\n",
    "print(c)"
   ]
  },
  {
   "cell_type": "code",
   "execution_count": null,
   "id": "c8496f3a-73d2-4a1f-9777-b545dd04d33c",
   "metadata": {},
   "outputs": [],
   "source": []
  }
 ],
 "metadata": {
  "kernelspec": {
   "display_name": "Python 3 (ipykernel)",
   "language": "python",
   "name": "python3"
  },
  "language_info": {
   "codemirror_mode": {
    "name": "ipython",
    "version": 3
   },
   "file_extension": ".py",
   "mimetype": "text/x-python",
   "name": "python",
   "nbconvert_exporter": "python",
   "pygments_lexer": "ipython3",
   "version": "3.11.1"
  }
 },
 "nbformat": 4,
 "nbformat_minor": 5
}
